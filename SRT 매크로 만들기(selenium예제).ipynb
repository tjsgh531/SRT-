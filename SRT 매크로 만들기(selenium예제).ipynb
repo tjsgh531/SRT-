{
 "cells": [
  {
   "cell_type": "markdown",
   "id": "d6795eda-ff68-4a8f-81d6-589077c7e915",
   "metadata": {},
   "source": [
    "# SRT 매크로 만들기 ( + PyKakao )\n",
    "- SRT에 들어가요!\n",
    "- 로그인을 합니다.\n",
    "- 예매 페이지로 갑니다\n",
    "- 원하는 출발지/도착지/시간 을 입력 시킵니다.\n",
    "- 매진이 없어질때 까지 광클 합니다!\n",
    "  "
   ]
  },
  {
   "cell_type": "markdown",
   "id": "ee7251f8-0cb7-4af5-b817-64c609a10e82",
   "metadata": {},
   "source": [
    "#### 환경세팅"
   ]
  },
  {
   "cell_type": "code",
   "execution_count": 4,
   "id": "190e3745-2b15-4df0-be82-7d9ef81e271b",
   "metadata": {},
   "outputs": [],
   "source": [
    "from selenium import webdriver\n",
    "from webdriver_manager.chrome import ChromeDriverManager\n",
    "from selenium.webdriver.common.by import By\n",
    "from selenium.webdriver.common.keys import Keys\n",
    "from selenium.webdriver.support import expected_conditions as EC\n",
    "from selenium.webdriver.support.ui import WebDriverWait"
   ]
  },
  {
   "cell_type": "markdown",
   "id": "bdf93c19-9b15-46f1-a225-7d73791eb917",
   "metadata": {},
   "source": [
    "#### SRT에 들어가요!"
   ]
  },
  {
   "cell_type": "code",
   "execution_count": 8,
   "id": "f8c76e66-45c7-401b-8f66-af2f19200820",
   "metadata": {},
   "outputs": [],
   "source": [
    "url = 'https://etk.srail.kr/cmc/01/selectLoginForm.do?pageId=TK0701000000' # SRT 로그인 페이지 URL\n",
    "\n",
    "browser = webdriver.Chrome()\n",
    "browser.get(url)"
   ]
  },
  {
   "cell_type": "markdown",
   "id": "d73103c7-6396-4131-bead-017163fe4f67",
   "metadata": {},
   "source": [
    "#### 로그인을 합니다"
   ]
  },
  {
   "cell_type": "code",
   "execution_count": 9,
   "id": "1d135a34-636e-40ab-a328-ef05c067a3f6",
   "metadata": {},
   "outputs": [
    {
     "name": "stdin",
     "output_type": "stream",
     "text": [
      "ID(이메일)를 입력해 주세요 :  tjsgh531@naver.com\n",
      "PW를 입력해 주세요 :  ········\n"
     ]
    }
   ],
   "source": [
    "import getpass\n",
    "\n",
    "email = input(\"ID(이메일)를 입력해 주세요 : \")\n",
    "pw = getpass.getpass(\"PW를 입력해 주세요 : \")"
   ]
  },
  {
   "cell_type": "code",
   "execution_count": 18,
   "id": "7991d4fa-7b3b-4f77-8f71-7aca56b39e66",
   "metadata": {},
   "outputs": [],
   "source": [
    "wait = WebDriverWait(browser, 10)\n",
    "\n",
    "email_login_btn = wait.until(EC.presence_of_element_located((By.XPATH, '//*[@id=\"srchDvCd2\"]')))\n",
    "email_login_btn.click()\n",
    "\n",
    "id_input = wait.until(EC.presence_of_element_located((By.XPATH, '//*[@id=\"srchDvNm02\"]')))\n",
    "pw_input = wait.until(EC.presence_of_element_located((By.XPATH, '//*[@id=\"hmpgPwdCphd02\"]')))\n",
    "submit_btn = wait.until(EC.presence_of_element_located((By.XPATH, '//*[@id=\"login-form\"]/fieldset/div[1]/div[1]/div[3]/div/div[2]/input')))\n",
    "\n",
    "id_input.clear()\n",
    "pw_input.clear()\n",
    "\n",
    "id_input.send_keys(email)\n",
    "pw_input.send_keys(pw)\n",
    "submit_btn.click()"
   ]
  },
  {
   "cell_type": "markdown",
   "id": "bd5b8764-7d50-4c70-aa13-2a955658c191",
   "metadata": {},
   "source": [
    "#### 예매 페이지로 갑니다"
   ]
  },
  {
   "cell_type": "code",
   "execution_count": 19,
   "id": "7aa2b45b-730d-4443-ad6d-395ef5ddf90f",
   "metadata": {},
   "outputs": [],
   "source": [
    "booking_url = 'https://etk.srail.kr/hpg/hra/01/selectScheduleList.do?pageId=TK0101010000'\n",
    "browser.get(booking_url)"
   ]
  },
  {
   "cell_type": "markdown",
   "id": "1b5f6605-3b9a-426f-8b8a-8a423d01ecb7",
   "metadata": {},
   "source": [
    "#### 원하는 출발지/도착지/출발시간을 입력받습니다."
   ]
  },
  {
   "cell_type": "code",
   "execution_count": 22,
   "id": "1ee9712f-89e6-4295-b203-3b16911d371a",
   "metadata": {},
   "outputs": [
    {
     "name": "stdin",
     "output_type": "stream",
     "text": [
      "어디서 출발하나요? :  부산\n",
      "어디로 갈까요? :  동탄\n"
     ]
    }
   ],
   "source": [
    "departure = input(\"어디서 출발하나요? : \")\n",
    "destination = input(\"어디로 갈까요? : \") "
   ]
  },
  {
   "cell_type": "code",
   "execution_count": 24,
   "id": "5e4b33ee-e5c7-46a3-8c55-99b137ee51c7",
   "metadata": {},
   "outputs": [],
   "source": [
    "departure_input = wait.until(EC.presence_of_element_located((By.XPATH, '//*[@id=\"dptRsStnCdNm\"]')))\n",
    "destination_input = wait.until(EC.presence_of_element_located((By.XPATH, '//*[@id=\"arvRsStnCdNm\"]')))\n",
    "\n",
    "departure_input.clear()\n",
    "destination_input.clear()\n",
    "\n",
    "departure_input.send_keys(departure)\n",
    "destination_input.send_keys(destination, Keys.ENTER)"
   ]
  },
  {
   "cell_type": "code",
   "execution_count": 42,
   "id": "ef336417-be1d-42b5-b55e-191a067bfb8c",
   "metadata": {},
   "outputs": [
    {
     "name": "stdout",
     "output_type": "stream",
     "text": [
      "00시 / 02시 / 04시 / 06시 / 08시 / 10시 / 12시 / 14시 / 16시 / 18시 / 20시 / 22시 / "
     ]
    },
    {
     "name": "stdin",
     "output_type": "stream",
     "text": [
      "가 있습니다. 몇 시로 예매 할까요? :  22\n"
     ]
    }
   ],
   "source": [
    "time_input = wait.until(EC.presence_of_element_located((By.XPATH, '//*[@id=\"dptTm\"]')))\n",
    "times = time_input.find_elements(By.TAG_NAME, 'option')\n",
    "search_btn = wait.until(EC.presence_of_element_located((By.XPATH, '//*[@id=\"search_top_tag\"]/input')))\n",
    "\n",
    "for time in times:\n",
    "    print(f\"{time.text}시\", end=\" / \")\n",
    "wanted_time = int(input(\"가 있습니다. 몇 시로 예매 할까요? : \")) \n",
    "\n",
    "for time in times:\n",
    "    if wanted_time == int(time.text):\n",
    "        time.click()\n",
    "        break\n",
    "\n",
    "search_btn.click()"
   ]
  },
  {
   "cell_type": "markdown",
   "id": "9e106279-f9b5-4946-ba67-943ea1b8c3b7",
   "metadata": {},
   "source": [
    "#### 매진이 아닐때 까지 광클을 합니다"
   ]
  },
  {
   "cell_type": "code",
   "execution_count": 46,
   "id": "f4ce3b59-704e-47b8-b511-c7d37011cefb",
   "metadata": {},
   "outputs": [
    {
     "name": "stdout",
     "output_type": "stream",
     "text": [
      "특실 자리를 예매할 수 있어요!!\n"
     ]
    }
   ],
   "source": [
    "import time\n",
    "\n",
    "while True:\n",
    "    special_seat = wait.until(EC.presence_of_element_located((By.XPATH, '//*[@id=\"result-form\"]/fieldset/div[6]/table/tbody/tr[1]/td[6]')))\n",
    "    economy_seat = wait.until(EC.presence_of_element_located((By.XPATH, '//*[@id=\"result-form\"]/fieldset/div[6]/table/tbody/tr[1]/td[7]')))\n",
    "    \n",
    "    is_special_seat = False\n",
    "    is_economy_seat = False\n",
    "\n",
    "    if '예약 하기' in special_seat.text:\n",
    "        is_special_seat = True\n",
    "    if '예약 하기' in economy_seat.text:\n",
    "        is_economy_seat = True\n",
    "\n",
    "    if is_special_seat:\n",
    "        print(\"특실 자리를 예매할 수 있어요!!\")\n",
    "        special_seat_btn = special_seat.find_element(By.TAG_NAME, 'a')\n",
    "        special_seat_btn.click()\n",
    "        break\n",
    "    if is_economy_seat:\n",
    "        print(\"일반실 자리를 예매할 수 있어요!!\")\n",
    "        economy_seat_btn = economy_seat.find_element(By.TAG_NAME, 'a')\n",
    "        economy_seat_btn.click()\n",
    "        break\n",
    "    print(\"예약 할 수 있는 표가 없어요.. 광클 합니다\")\n",
    "    browser.refresh()\n",
    "    time.sleep(3)\n",
    "    search_btn = wait.until(EC.presence_of_element_located((By.CLASS_NAME, 'btn_large ')))\n",
    "    search_btn.click()"
   ]
  },
  {
   "cell_type": "markdown",
   "id": "9368c109-2842-4db3-9947-7bf9d059cad3",
   "metadata": {},
   "source": [
    "#### 자리가 있으면 카톡으로 메세지를 보내자!"
   ]
  },
  {
   "cell_type": "code",
   "execution_count": 49,
   "id": "b38da450-e457-4b25-a831-1190d8408680",
   "metadata": {},
   "outputs": [],
   "source": [
    "from PyKakao import Message\n",
    "\n",
    "booking_url = browser.current_url\n",
    "api_key = '8059fdc85ee7b7cacbdc4f5cf569cd73'\n",
    "\n",
    "API = Message(service_key = api_key)\n",
    "auth_url = API.get_url_for_generating_code()\n",
    "\n",
    "browser.get(auth_url)"
   ]
  },
  {
   "cell_type": "code",
   "execution_count": 54,
   "id": "03f89376-4640-4402-9f49-16a3d471de6c",
   "metadata": {},
   "outputs": [
    {
     "name": "stdin",
     "output_type": "stream",
     "text": [
      "카카오 아이디 입력 :  01066282770\n",
      "카카오 pw입력:  ········\n"
     ]
    }
   ],
   "source": [
    "kakao_id = input(\"카카오 아이디 입력 : \")\n",
    "kakao_pw = getpass.getpass(\"카카오 pw입력: \")"
   ]
  },
  {
   "cell_type": "code",
   "execution_count": 59,
   "id": "b1ad070f-130e-4ac7-9a02-9d803fb53683",
   "metadata": {},
   "outputs": [],
   "source": [
    "kakao_id_input = wait.until(EC.presence_of_element_located((By.ID, 'loginId--1')))\n",
    "kakao_pw_input = wait.until(EC.presence_of_element_located((By.ID, 'password--2')))\n",
    "kakao_submit_btn = browser.find_element(By.CLASS_NAME, 'btn_g')\n",
    "\n",
    "kakao_id_input.clear()\n",
    "kakao_pw_input.clear()\n",
    "\n",
    "kakao_id_input.send_keys(kakao_id)\n",
    "kakao_pw_input.send_keys(kakao_pw)\n",
    "kakao_submit_btn.click()"
   ]
  },
  {
   "cell_type": "code",
   "execution_count": 60,
   "id": "322361e9-cd21-4eef-8945-c5075f1ac81d",
   "metadata": {},
   "outputs": [],
   "source": [
    "kakao_agree_btn = wait.until(EC.presence_of_element_located((By.CLASS_NAME, 'btn_agree')))\n",
    "kakao_agree_btn.click()"
   ]
  },
  {
   "cell_type": "code",
   "execution_count": 69,
   "id": "e1e56939-e0b8-4da5-b9f2-8cde42309893",
   "metadata": {},
   "outputs": [
    {
     "name": "stdout",
     "output_type": "stream",
     "text": [
      "https://localhost:5000/?code=raud37QD1bxRkhW6DwD2UTIimPNFqPy29SLKwTiutSSktMPOF-OAboc8ksQKPXObAAABjsYjbckq17LwdM8QAg\n",
      "raud37QD1bxRkhW6DwD2UTIimPNFqPy29SLKwTiutSSktMPOF-OAboc8ksQKPXObAAABjsYjbckq17LwdM8QAg\n"
     ]
    }
   ],
   "source": [
    "import re\n",
    "\n",
    "code_url = browser.current_url\n",
    "print(code_url)\n",
    "\n",
    "code = re.search(r\"code=(.+)\", str(code_url))\n",
    "code = code.group(1)\n",
    "print(code)\n"
   ]
  },
  {
   "cell_type": "code",
   "execution_count": 70,
   "id": "1281833b-8a91-44a1-8196-4656d0140655",
   "metadata": {},
   "outputs": [
    {
     "ename": "ConnectionError",
     "evalue": "HTTPSConnectionPool(host='kauth.kakao.com', port=443): Max retries exceeded with url: /oauth/token (Caused by NameResolutionError(\"<urllib3.connection.HTTPSConnection object at 0x000002187E02BAD0>: Failed to resolve 'kauth.kakao.com' ([Errno 11001] getaddrinfo failed)\"))",
     "output_type": "error",
     "traceback": [
      "\u001b[1;31m---------------------------------------------------------------------------\u001b[0m",
      "\u001b[1;31mgaierror\u001b[0m                                  Traceback (most recent call last)",
      "File \u001b[1;32m~\\anaconda3\\Lib\\site-packages\\urllib3\\connection.py:203\u001b[0m, in \u001b[0;36mHTTPConnection._new_conn\u001b[1;34m(self)\u001b[0m\n\u001b[0;32m    202\u001b[0m \u001b[38;5;28;01mtry\u001b[39;00m:\n\u001b[1;32m--> 203\u001b[0m     sock \u001b[38;5;241m=\u001b[39m connection\u001b[38;5;241m.\u001b[39mcreate_connection(\n\u001b[0;32m    204\u001b[0m         (\u001b[38;5;28mself\u001b[39m\u001b[38;5;241m.\u001b[39m_dns_host, \u001b[38;5;28mself\u001b[39m\u001b[38;5;241m.\u001b[39mport),\n\u001b[0;32m    205\u001b[0m         \u001b[38;5;28mself\u001b[39m\u001b[38;5;241m.\u001b[39mtimeout,\n\u001b[0;32m    206\u001b[0m         source_address\u001b[38;5;241m=\u001b[39m\u001b[38;5;28mself\u001b[39m\u001b[38;5;241m.\u001b[39msource_address,\n\u001b[0;32m    207\u001b[0m         socket_options\u001b[38;5;241m=\u001b[39m\u001b[38;5;28mself\u001b[39m\u001b[38;5;241m.\u001b[39msocket_options,\n\u001b[0;32m    208\u001b[0m     )\n\u001b[0;32m    209\u001b[0m \u001b[38;5;28;01mexcept\u001b[39;00m socket\u001b[38;5;241m.\u001b[39mgaierror \u001b[38;5;28;01mas\u001b[39;00m e:\n",
      "File \u001b[1;32m~\\anaconda3\\Lib\\site-packages\\urllib3\\util\\connection.py:60\u001b[0m, in \u001b[0;36mcreate_connection\u001b[1;34m(address, timeout, source_address, socket_options)\u001b[0m\n\u001b[0;32m     58\u001b[0m     \u001b[38;5;28;01mraise\u001b[39;00m LocationParseError(\u001b[38;5;124mf\u001b[39m\u001b[38;5;124m\"\u001b[39m\u001b[38;5;124m'\u001b[39m\u001b[38;5;132;01m{\u001b[39;00mhost\u001b[38;5;132;01m}\u001b[39;00m\u001b[38;5;124m'\u001b[39m\u001b[38;5;124m, label empty or too long\u001b[39m\u001b[38;5;124m\"\u001b[39m) \u001b[38;5;28;01mfrom\u001b[39;00m \u001b[38;5;28;01mNone\u001b[39;00m\n\u001b[1;32m---> 60\u001b[0m \u001b[38;5;28;01mfor\u001b[39;00m res \u001b[38;5;129;01min\u001b[39;00m socket\u001b[38;5;241m.\u001b[39mgetaddrinfo(host, port, family, socket\u001b[38;5;241m.\u001b[39mSOCK_STREAM):\n\u001b[0;32m     61\u001b[0m     af, socktype, proto, canonname, sa \u001b[38;5;241m=\u001b[39m res\n",
      "File \u001b[1;32m~\\anaconda3\\Lib\\socket.py:962\u001b[0m, in \u001b[0;36mgetaddrinfo\u001b[1;34m(host, port, family, type, proto, flags)\u001b[0m\n\u001b[0;32m    961\u001b[0m addrlist \u001b[38;5;241m=\u001b[39m []\n\u001b[1;32m--> 962\u001b[0m \u001b[38;5;28;01mfor\u001b[39;00m res \u001b[38;5;129;01min\u001b[39;00m _socket\u001b[38;5;241m.\u001b[39mgetaddrinfo(host, port, family, \u001b[38;5;28mtype\u001b[39m, proto, flags):\n\u001b[0;32m    963\u001b[0m     af, socktype, proto, canonname, sa \u001b[38;5;241m=\u001b[39m res\n",
      "\u001b[1;31mgaierror\u001b[0m: [Errno 11001] getaddrinfo failed",
      "\nThe above exception was the direct cause of the following exception:\n",
      "\u001b[1;31mNameResolutionError\u001b[0m                       Traceback (most recent call last)",
      "File \u001b[1;32m~\\anaconda3\\Lib\\site-packages\\urllib3\\connectionpool.py:791\u001b[0m, in \u001b[0;36mHTTPConnectionPool.urlopen\u001b[1;34m(self, method, url, body, headers, retries, redirect, assert_same_host, timeout, pool_timeout, release_conn, chunked, body_pos, preload_content, decode_content, **response_kw)\u001b[0m\n\u001b[0;32m    790\u001b[0m \u001b[38;5;66;03m# Make the request on the HTTPConnection object\u001b[39;00m\n\u001b[1;32m--> 791\u001b[0m response \u001b[38;5;241m=\u001b[39m \u001b[38;5;28mself\u001b[39m\u001b[38;5;241m.\u001b[39m_make_request(\n\u001b[0;32m    792\u001b[0m     conn,\n\u001b[0;32m    793\u001b[0m     method,\n\u001b[0;32m    794\u001b[0m     url,\n\u001b[0;32m    795\u001b[0m     timeout\u001b[38;5;241m=\u001b[39mtimeout_obj,\n\u001b[0;32m    796\u001b[0m     body\u001b[38;5;241m=\u001b[39mbody,\n\u001b[0;32m    797\u001b[0m     headers\u001b[38;5;241m=\u001b[39mheaders,\n\u001b[0;32m    798\u001b[0m     chunked\u001b[38;5;241m=\u001b[39mchunked,\n\u001b[0;32m    799\u001b[0m     retries\u001b[38;5;241m=\u001b[39mretries,\n\u001b[0;32m    800\u001b[0m     response_conn\u001b[38;5;241m=\u001b[39mresponse_conn,\n\u001b[0;32m    801\u001b[0m     preload_content\u001b[38;5;241m=\u001b[39mpreload_content,\n\u001b[0;32m    802\u001b[0m     decode_content\u001b[38;5;241m=\u001b[39mdecode_content,\n\u001b[0;32m    803\u001b[0m     \u001b[38;5;241m*\u001b[39m\u001b[38;5;241m*\u001b[39mresponse_kw,\n\u001b[0;32m    804\u001b[0m )\n\u001b[0;32m    806\u001b[0m \u001b[38;5;66;03m# Everything went great!\u001b[39;00m\n",
      "File \u001b[1;32m~\\anaconda3\\Lib\\site-packages\\urllib3\\connectionpool.py:492\u001b[0m, in \u001b[0;36mHTTPConnectionPool._make_request\u001b[1;34m(self, conn, method, url, body, headers, retries, timeout, chunked, response_conn, preload_content, decode_content, enforce_content_length)\u001b[0m\n\u001b[0;32m    491\u001b[0m         new_e \u001b[38;5;241m=\u001b[39m _wrap_proxy_error(new_e, conn\u001b[38;5;241m.\u001b[39mproxy\u001b[38;5;241m.\u001b[39mscheme)\n\u001b[1;32m--> 492\u001b[0m     \u001b[38;5;28;01mraise\u001b[39;00m new_e\n\u001b[0;32m    494\u001b[0m \u001b[38;5;66;03m# conn.request() calls http.client.*.request, not the method in\u001b[39;00m\n\u001b[0;32m    495\u001b[0m \u001b[38;5;66;03m# urllib3.request. It also calls makefile (recv) on the socket.\u001b[39;00m\n",
      "File \u001b[1;32m~\\anaconda3\\Lib\\site-packages\\urllib3\\connectionpool.py:468\u001b[0m, in \u001b[0;36mHTTPConnectionPool._make_request\u001b[1;34m(self, conn, method, url, body, headers, retries, timeout, chunked, response_conn, preload_content, decode_content, enforce_content_length)\u001b[0m\n\u001b[0;32m    467\u001b[0m \u001b[38;5;28;01mtry\u001b[39;00m:\n\u001b[1;32m--> 468\u001b[0m     \u001b[38;5;28mself\u001b[39m\u001b[38;5;241m.\u001b[39m_validate_conn(conn)\n\u001b[0;32m    469\u001b[0m \u001b[38;5;28;01mexcept\u001b[39;00m (SocketTimeout, BaseSSLError) \u001b[38;5;28;01mas\u001b[39;00m e:\n",
      "File \u001b[1;32m~\\anaconda3\\Lib\\site-packages\\urllib3\\connectionpool.py:1097\u001b[0m, in \u001b[0;36mHTTPSConnectionPool._validate_conn\u001b[1;34m(self, conn)\u001b[0m\n\u001b[0;32m   1096\u001b[0m \u001b[38;5;28;01mif\u001b[39;00m conn\u001b[38;5;241m.\u001b[39mis_closed:\n\u001b[1;32m-> 1097\u001b[0m     conn\u001b[38;5;241m.\u001b[39mconnect()\n\u001b[0;32m   1099\u001b[0m \u001b[38;5;28;01mif\u001b[39;00m \u001b[38;5;129;01mnot\u001b[39;00m conn\u001b[38;5;241m.\u001b[39mis_verified:\n",
      "File \u001b[1;32m~\\anaconda3\\Lib\\site-packages\\urllib3\\connection.py:611\u001b[0m, in \u001b[0;36mHTTPSConnection.connect\u001b[1;34m(self)\u001b[0m\n\u001b[0;32m    610\u001b[0m sock: socket\u001b[38;5;241m.\u001b[39msocket \u001b[38;5;241m|\u001b[39m ssl\u001b[38;5;241m.\u001b[39mSSLSocket\n\u001b[1;32m--> 611\u001b[0m \u001b[38;5;28mself\u001b[39m\u001b[38;5;241m.\u001b[39msock \u001b[38;5;241m=\u001b[39m sock \u001b[38;5;241m=\u001b[39m \u001b[38;5;28mself\u001b[39m\u001b[38;5;241m.\u001b[39m_new_conn()\n\u001b[0;32m    612\u001b[0m server_hostname: \u001b[38;5;28mstr\u001b[39m \u001b[38;5;241m=\u001b[39m \u001b[38;5;28mself\u001b[39m\u001b[38;5;241m.\u001b[39mhost\n",
      "File \u001b[1;32m~\\anaconda3\\Lib\\site-packages\\urllib3\\connection.py:210\u001b[0m, in \u001b[0;36mHTTPConnection._new_conn\u001b[1;34m(self)\u001b[0m\n\u001b[0;32m    209\u001b[0m \u001b[38;5;28;01mexcept\u001b[39;00m socket\u001b[38;5;241m.\u001b[39mgaierror \u001b[38;5;28;01mas\u001b[39;00m e:\n\u001b[1;32m--> 210\u001b[0m     \u001b[38;5;28;01mraise\u001b[39;00m NameResolutionError(\u001b[38;5;28mself\u001b[39m\u001b[38;5;241m.\u001b[39mhost, \u001b[38;5;28mself\u001b[39m, e) \u001b[38;5;28;01mfrom\u001b[39;00m \u001b[38;5;21;01me\u001b[39;00m\n\u001b[0;32m    211\u001b[0m \u001b[38;5;28;01mexcept\u001b[39;00m SocketTimeout \u001b[38;5;28;01mas\u001b[39;00m e:\n",
      "\u001b[1;31mNameResolutionError\u001b[0m: <urllib3.connection.HTTPSConnection object at 0x000002187E02BAD0>: Failed to resolve 'kauth.kakao.com' ([Errno 11001] getaddrinfo failed)",
      "\nThe above exception was the direct cause of the following exception:\n",
      "\u001b[1;31mMaxRetryError\u001b[0m                             Traceback (most recent call last)",
      "File \u001b[1;32m~\\anaconda3\\Lib\\site-packages\\requests\\adapters.py:486\u001b[0m, in \u001b[0;36mHTTPAdapter.send\u001b[1;34m(self, request, stream, timeout, verify, cert, proxies)\u001b[0m\n\u001b[0;32m    485\u001b[0m \u001b[38;5;28;01mtry\u001b[39;00m:\n\u001b[1;32m--> 486\u001b[0m     resp \u001b[38;5;241m=\u001b[39m conn\u001b[38;5;241m.\u001b[39murlopen(\n\u001b[0;32m    487\u001b[0m         method\u001b[38;5;241m=\u001b[39mrequest\u001b[38;5;241m.\u001b[39mmethod,\n\u001b[0;32m    488\u001b[0m         url\u001b[38;5;241m=\u001b[39murl,\n\u001b[0;32m    489\u001b[0m         body\u001b[38;5;241m=\u001b[39mrequest\u001b[38;5;241m.\u001b[39mbody,\n\u001b[0;32m    490\u001b[0m         headers\u001b[38;5;241m=\u001b[39mrequest\u001b[38;5;241m.\u001b[39mheaders,\n\u001b[0;32m    491\u001b[0m         redirect\u001b[38;5;241m=\u001b[39m\u001b[38;5;28;01mFalse\u001b[39;00m,\n\u001b[0;32m    492\u001b[0m         assert_same_host\u001b[38;5;241m=\u001b[39m\u001b[38;5;28;01mFalse\u001b[39;00m,\n\u001b[0;32m    493\u001b[0m         preload_content\u001b[38;5;241m=\u001b[39m\u001b[38;5;28;01mFalse\u001b[39;00m,\n\u001b[0;32m    494\u001b[0m         decode_content\u001b[38;5;241m=\u001b[39m\u001b[38;5;28;01mFalse\u001b[39;00m,\n\u001b[0;32m    495\u001b[0m         retries\u001b[38;5;241m=\u001b[39m\u001b[38;5;28mself\u001b[39m\u001b[38;5;241m.\u001b[39mmax_retries,\n\u001b[0;32m    496\u001b[0m         timeout\u001b[38;5;241m=\u001b[39mtimeout,\n\u001b[0;32m    497\u001b[0m         chunked\u001b[38;5;241m=\u001b[39mchunked,\n\u001b[0;32m    498\u001b[0m     )\n\u001b[0;32m    500\u001b[0m \u001b[38;5;28;01mexcept\u001b[39;00m (ProtocolError, \u001b[38;5;167;01mOSError\u001b[39;00m) \u001b[38;5;28;01mas\u001b[39;00m err:\n",
      "File \u001b[1;32m~\\anaconda3\\Lib\\site-packages\\urllib3\\connectionpool.py:845\u001b[0m, in \u001b[0;36mHTTPConnectionPool.urlopen\u001b[1;34m(self, method, url, body, headers, retries, redirect, assert_same_host, timeout, pool_timeout, release_conn, chunked, body_pos, preload_content, decode_content, **response_kw)\u001b[0m\n\u001b[0;32m    843\u001b[0m     new_e \u001b[38;5;241m=\u001b[39m ProtocolError(\u001b[38;5;124m\"\u001b[39m\u001b[38;5;124mConnection aborted.\u001b[39m\u001b[38;5;124m\"\u001b[39m, new_e)\n\u001b[1;32m--> 845\u001b[0m retries \u001b[38;5;241m=\u001b[39m retries\u001b[38;5;241m.\u001b[39mincrement(\n\u001b[0;32m    846\u001b[0m     method, url, error\u001b[38;5;241m=\u001b[39mnew_e, _pool\u001b[38;5;241m=\u001b[39m\u001b[38;5;28mself\u001b[39m, _stacktrace\u001b[38;5;241m=\u001b[39msys\u001b[38;5;241m.\u001b[39mexc_info()[\u001b[38;5;241m2\u001b[39m]\n\u001b[0;32m    847\u001b[0m )\n\u001b[0;32m    848\u001b[0m retries\u001b[38;5;241m.\u001b[39msleep()\n",
      "File \u001b[1;32m~\\anaconda3\\Lib\\site-packages\\urllib3\\util\\retry.py:515\u001b[0m, in \u001b[0;36mRetry.increment\u001b[1;34m(self, method, url, response, error, _pool, _stacktrace)\u001b[0m\n\u001b[0;32m    514\u001b[0m     reason \u001b[38;5;241m=\u001b[39m error \u001b[38;5;129;01mor\u001b[39;00m ResponseError(cause)\n\u001b[1;32m--> 515\u001b[0m     \u001b[38;5;28;01mraise\u001b[39;00m MaxRetryError(_pool, url, reason) \u001b[38;5;28;01mfrom\u001b[39;00m \u001b[38;5;21;01mreason\u001b[39;00m  \u001b[38;5;66;03m# type: ignore[arg-type]\u001b[39;00m\n\u001b[0;32m    517\u001b[0m log\u001b[38;5;241m.\u001b[39mdebug(\u001b[38;5;124m\"\u001b[39m\u001b[38;5;124mIncremented Retry for (url=\u001b[39m\u001b[38;5;124m'\u001b[39m\u001b[38;5;132;01m%s\u001b[39;00m\u001b[38;5;124m'\u001b[39m\u001b[38;5;124m): \u001b[39m\u001b[38;5;132;01m%r\u001b[39;00m\u001b[38;5;124m\"\u001b[39m, url, new_retry)\n",
      "\u001b[1;31mMaxRetryError\u001b[0m: HTTPSConnectionPool(host='kauth.kakao.com', port=443): Max retries exceeded with url: /oauth/token (Caused by NameResolutionError(\"<urllib3.connection.HTTPSConnection object at 0x000002187E02BAD0>: Failed to resolve 'kauth.kakao.com' ([Errno 11001] getaddrinfo failed)\"))",
      "\nDuring handling of the above exception, another exception occurred:\n",
      "\u001b[1;31mConnectionError\u001b[0m                           Traceback (most recent call last)",
      "Cell \u001b[1;32mIn[70], line 13\u001b[0m\n\u001b[0;32m      4\u001b[0m redirect_uri \u001b[38;5;241m=\u001b[39m \u001b[38;5;124m'\u001b[39m\u001b[38;5;124mhttps://localhost:5000\u001b[39m\u001b[38;5;124m'\u001b[39m\n\u001b[0;32m      6\u001b[0m data \u001b[38;5;241m=\u001b[39m {\n\u001b[0;32m      7\u001b[0m     \u001b[38;5;124m'\u001b[39m\u001b[38;5;124mgrant_type\u001b[39m\u001b[38;5;124m'\u001b[39m : \u001b[38;5;124m'\u001b[39m\u001b[38;5;124mauthorization_code\u001b[39m\u001b[38;5;124m'\u001b[39m,\n\u001b[0;32m      8\u001b[0m     \u001b[38;5;124m'\u001b[39m\u001b[38;5;124mclient_id\u001b[39m\u001b[38;5;124m'\u001b[39m : api_key,\n\u001b[0;32m      9\u001b[0m     \u001b[38;5;124m'\u001b[39m\u001b[38;5;124mredirect_uri\u001b[39m\u001b[38;5;124m'\u001b[39m : redirect_uri,\n\u001b[0;32m     10\u001b[0m     \u001b[38;5;124m'\u001b[39m\u001b[38;5;124mcode\u001b[39m\u001b[38;5;124m'\u001b[39m : code,\n\u001b[0;32m     11\u001b[0m }\n\u001b[1;32m---> 13\u001b[0m response \u001b[38;5;241m=\u001b[39m requests\u001b[38;5;241m.\u001b[39mpost(url, data\u001b[38;5;241m=\u001b[39mdata)\n\u001b[0;32m     14\u001b[0m tokens \u001b[38;5;241m=\u001b[39m response\u001b[38;5;241m.\u001b[39mjson()\n",
      "File \u001b[1;32m~\\anaconda3\\Lib\\site-packages\\requests\\api.py:115\u001b[0m, in \u001b[0;36mpost\u001b[1;34m(url, data, json, **kwargs)\u001b[0m\n\u001b[0;32m    103\u001b[0m \u001b[38;5;28;01mdef\u001b[39;00m \u001b[38;5;21mpost\u001b[39m(url, data\u001b[38;5;241m=\u001b[39m\u001b[38;5;28;01mNone\u001b[39;00m, json\u001b[38;5;241m=\u001b[39m\u001b[38;5;28;01mNone\u001b[39;00m, \u001b[38;5;241m*\u001b[39m\u001b[38;5;241m*\u001b[39mkwargs):\n\u001b[0;32m    104\u001b[0m \u001b[38;5;250m    \u001b[39m\u001b[38;5;124mr\u001b[39m\u001b[38;5;124;03m\"\"\"Sends a POST request.\u001b[39;00m\n\u001b[0;32m    105\u001b[0m \n\u001b[0;32m    106\u001b[0m \u001b[38;5;124;03m    :param url: URL for the new :class:`Request` object.\u001b[39;00m\n\u001b[1;32m   (...)\u001b[0m\n\u001b[0;32m    112\u001b[0m \u001b[38;5;124;03m    :rtype: requests.Response\u001b[39;00m\n\u001b[0;32m    113\u001b[0m \u001b[38;5;124;03m    \"\"\"\u001b[39;00m\n\u001b[1;32m--> 115\u001b[0m     \u001b[38;5;28;01mreturn\u001b[39;00m request(\u001b[38;5;124m\"\u001b[39m\u001b[38;5;124mpost\u001b[39m\u001b[38;5;124m\"\u001b[39m, url, data\u001b[38;5;241m=\u001b[39mdata, json\u001b[38;5;241m=\u001b[39mjson, \u001b[38;5;241m*\u001b[39m\u001b[38;5;241m*\u001b[39mkwargs)\n",
      "File \u001b[1;32m~\\anaconda3\\Lib\\site-packages\\requests\\api.py:59\u001b[0m, in \u001b[0;36mrequest\u001b[1;34m(method, url, **kwargs)\u001b[0m\n\u001b[0;32m     55\u001b[0m \u001b[38;5;66;03m# By using the 'with' statement we are sure the session is closed, thus we\u001b[39;00m\n\u001b[0;32m     56\u001b[0m \u001b[38;5;66;03m# avoid leaving sockets open which can trigger a ResourceWarning in some\u001b[39;00m\n\u001b[0;32m     57\u001b[0m \u001b[38;5;66;03m# cases, and look like a memory leak in others.\u001b[39;00m\n\u001b[0;32m     58\u001b[0m \u001b[38;5;28;01mwith\u001b[39;00m sessions\u001b[38;5;241m.\u001b[39mSession() \u001b[38;5;28;01mas\u001b[39;00m session:\n\u001b[1;32m---> 59\u001b[0m     \u001b[38;5;28;01mreturn\u001b[39;00m session\u001b[38;5;241m.\u001b[39mrequest(method\u001b[38;5;241m=\u001b[39mmethod, url\u001b[38;5;241m=\u001b[39murl, \u001b[38;5;241m*\u001b[39m\u001b[38;5;241m*\u001b[39mkwargs)\n",
      "File \u001b[1;32m~\\anaconda3\\Lib\\site-packages\\requests\\sessions.py:589\u001b[0m, in \u001b[0;36mSession.request\u001b[1;34m(self, method, url, params, data, headers, cookies, files, auth, timeout, allow_redirects, proxies, hooks, stream, verify, cert, json)\u001b[0m\n\u001b[0;32m    584\u001b[0m send_kwargs \u001b[38;5;241m=\u001b[39m {\n\u001b[0;32m    585\u001b[0m     \u001b[38;5;124m\"\u001b[39m\u001b[38;5;124mtimeout\u001b[39m\u001b[38;5;124m\"\u001b[39m: timeout,\n\u001b[0;32m    586\u001b[0m     \u001b[38;5;124m\"\u001b[39m\u001b[38;5;124mallow_redirects\u001b[39m\u001b[38;5;124m\"\u001b[39m: allow_redirects,\n\u001b[0;32m    587\u001b[0m }\n\u001b[0;32m    588\u001b[0m send_kwargs\u001b[38;5;241m.\u001b[39mupdate(settings)\n\u001b[1;32m--> 589\u001b[0m resp \u001b[38;5;241m=\u001b[39m \u001b[38;5;28mself\u001b[39m\u001b[38;5;241m.\u001b[39msend(prep, \u001b[38;5;241m*\u001b[39m\u001b[38;5;241m*\u001b[39msend_kwargs)\n\u001b[0;32m    591\u001b[0m \u001b[38;5;28;01mreturn\u001b[39;00m resp\n",
      "File \u001b[1;32m~\\anaconda3\\Lib\\site-packages\\requests\\sessions.py:703\u001b[0m, in \u001b[0;36mSession.send\u001b[1;34m(self, request, **kwargs)\u001b[0m\n\u001b[0;32m    700\u001b[0m start \u001b[38;5;241m=\u001b[39m preferred_clock()\n\u001b[0;32m    702\u001b[0m \u001b[38;5;66;03m# Send the request\u001b[39;00m\n\u001b[1;32m--> 703\u001b[0m r \u001b[38;5;241m=\u001b[39m adapter\u001b[38;5;241m.\u001b[39msend(request, \u001b[38;5;241m*\u001b[39m\u001b[38;5;241m*\u001b[39mkwargs)\n\u001b[0;32m    705\u001b[0m \u001b[38;5;66;03m# Total elapsed time of the request (approximately)\u001b[39;00m\n\u001b[0;32m    706\u001b[0m elapsed \u001b[38;5;241m=\u001b[39m preferred_clock() \u001b[38;5;241m-\u001b[39m start\n",
      "File \u001b[1;32m~\\anaconda3\\Lib\\site-packages\\requests\\adapters.py:519\u001b[0m, in \u001b[0;36mHTTPAdapter.send\u001b[1;34m(self, request, stream, timeout, verify, cert, proxies)\u001b[0m\n\u001b[0;32m    515\u001b[0m     \u001b[38;5;28;01mif\u001b[39;00m \u001b[38;5;28misinstance\u001b[39m(e\u001b[38;5;241m.\u001b[39mreason, _SSLError):\n\u001b[0;32m    516\u001b[0m         \u001b[38;5;66;03m# This branch is for urllib3 v1.22 and later.\u001b[39;00m\n\u001b[0;32m    517\u001b[0m         \u001b[38;5;28;01mraise\u001b[39;00m SSLError(e, request\u001b[38;5;241m=\u001b[39mrequest)\n\u001b[1;32m--> 519\u001b[0m     \u001b[38;5;28;01mraise\u001b[39;00m \u001b[38;5;167;01mConnectionError\u001b[39;00m(e, request\u001b[38;5;241m=\u001b[39mrequest)\n\u001b[0;32m    521\u001b[0m \u001b[38;5;28;01mexcept\u001b[39;00m ClosedPoolError \u001b[38;5;28;01mas\u001b[39;00m e:\n\u001b[0;32m    522\u001b[0m     \u001b[38;5;28;01mraise\u001b[39;00m \u001b[38;5;167;01mConnectionError\u001b[39;00m(e, request\u001b[38;5;241m=\u001b[39mrequest)\n",
      "\u001b[1;31mConnectionError\u001b[0m: HTTPSConnectionPool(host='kauth.kakao.com', port=443): Max retries exceeded with url: /oauth/token (Caused by NameResolutionError(\"<urllib3.connection.HTTPSConnection object at 0x000002187E02BAD0>: Failed to resolve 'kauth.kakao.com' ([Errno 11001] getaddrinfo failed)\"))"
     ]
    }
   ],
   "source": [
    "import requests\n",
    "\n",
    "url = 'https://kauth.kakao.com/oauth/token'\n",
    "redirect_uri = 'https://localhost:5000'\n",
    "\n",
    "data = {\n",
    "    'grant_type' : 'authorization_code',\n",
    "    'client_id' : api_key,\n",
    "    'redirect_uri' : redirect_uri,\n",
    "    'code' : code,\n",
    "}\n",
    "\n",
    "response = requests.post(url, data=data)\n",
    "tokens = response.json()"
   ]
  },
  {
   "cell_type": "code",
   "execution_count": null,
   "id": "e04a854b-5a95-442c-891c-5fa65cf0fc48",
   "metadata": {},
   "outputs": [],
   "source": [
    "import json\n",
    "\n",
    "url=\"https://kapi.kakao.com/v2/api/talk/memo/default/send\"\n",
    "\n",
    "# kapi.kakao.com/v2/api/talk/memo/default/send \n",
    "\n",
    "headers={\n",
    "    \"Authorization\" : \"Bearer \" + tokens[\"access_token\"]\n",
    "}\n",
    "\n",
    "data={\n",
    "    \"template_object\": json.dumps({\n",
    "        \"object_type\":\"text\",\n",
    "        \"text\":f\"예약에 성공했습니다! 10분 내로 결제하러 가세요!! {booking_url}\",\n",
    "        \"link\":{\n",
    "            \"web_url\":\"www.naver.com\"\n",
    "        }\n",
    "    })\n",
    "}\n",
    "\n",
    "response = requests.post(url, headers=headers, data=data)\n",
    "response.status_code\n",
    "print(response.status_code)\n",
    "if response.json().get('result_code') == 0:\n",
    "\tprint('메시지를 성공적으로 보냈습니다.')\n",
    "else:\n",
    "\tprint('메시지를 성공적으로 보내지 못했습니다. 오류메시지 : ' + str(response.json()))"
   ]
  }
 ],
 "metadata": {
  "kernelspec": {
   "display_name": "Python 3 (ipykernel)",
   "language": "python",
   "name": "python3"
  },
  "language_info": {
   "codemirror_mode": {
    "name": "ipython",
    "version": 3
   },
   "file_extension": ".py",
   "mimetype": "text/x-python",
   "name": "python",
   "nbconvert_exporter": "python",
   "pygments_lexer": "ipython3",
   "version": "3.11.7"
  }
 },
 "nbformat": 4,
 "nbformat_minor": 5
}
