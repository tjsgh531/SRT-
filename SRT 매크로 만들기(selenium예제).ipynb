{
 "cells": [
  {
   "cell_type": "markdown",
   "id": "d6795eda-ff68-4a8f-81d6-589077c7e915",
   "metadata": {},
   "source": [
    "# SRT 매크로 만들기 ( + PyKakao )\n",
    "- 카카오 로그인\n",
    "- 카카오로 너한테 메세지 보내도 되는지 auth 관련 code 받기\n",
    "  \n",
    "- SRT에 들어가요!\n",
    "- 로그인을 합니다.\n",
    "- 예매 페이지로 갑니다\n",
    "- 원하는 출발지/도착지/시간 을 입력 시킵니다.\n",
    "- 매진이 없어질때 까지 광클 합니다!\n",
    "\n",
    "- 예약을 성공적으로 누르면 카카오톡에 메세지를 보냅니다\n",
    "  "
   ]
  },
  {
   "cell_type": "markdown",
   "id": "ee7251f8-0cb7-4af5-b817-64c609a10e82",
   "metadata": {},
   "source": [
    "#### 환경세팅"
   ]
  },
  {
   "cell_type": "code",
   "execution_count": 12,
   "id": "190e3745-2b15-4df0-be82-7d9ef81e271b",
   "metadata": {},
   "outputs": [],
   "source": [
    "from selenium import webdriver\n",
    "from webdriver_manager.chrome import ChromeDriverManager\n",
    "from selenium.webdriver.common.by import By\n",
    "from selenium.webdriver.common.keys import Keys\n",
    "from selenium.webdriver.support import expected_conditions as EC\n",
    "from selenium.webdriver.support.ui import WebDriverWait"
   ]
  },
  {
   "cell_type": "code",
   "execution_count": 25,
   "id": "dfa34553-a79d-4fe2-bd68-c6985bc5d83d",
   "metadata": {},
   "outputs": [],
   "source": [
    "browser = webdriver.Chrome()\n",
    "wait = WebDriverWait(browser, 10)"
   ]
  },
  {
   "cell_type": "markdown",
   "id": "07fb7bb1-1a10-4488-b569-eb682916df09",
   "metadata": {},
   "source": [
    "## PyKakao 사용"
   ]
  },
  {
   "cell_type": "markdown",
   "id": "28c765d0-9a68-44c7-88fa-e4382e3572af",
   "metadata": {},
   "source": [
    "#### 카카오 로그인"
   ]
  },
  {
   "cell_type": "code",
   "execution_count": 26,
   "id": "072c73cf-61c4-4b82-b097-15ac3b6fb4b6",
   "metadata": {},
   "outputs": [],
   "source": [
    "from PyKakao import Message\n",
    "\n",
    "api_key = 'Kakao API KEY'\n",
    "\n",
    "API = Message(service_key = api_key)\n",
    "auth_url = API.get_url_for_generating_code()\n",
    "\n",
    "browser.get(auth_url)"
   ]
  },
  {
   "cell_type": "code",
   "execution_count": 27,
   "id": "5730c61c-81fc-4d42-b7ea-86818b165036",
   "metadata": {},
   "outputs": [
    {
     "name": "stdout",
     "output_type": "stream",
     "text": [
      "카카오 아이디 입력 :  01066282770\n",
      "카카오 pw입력:  ········\n"
     ]
    }
   ],
   "source": [
    "kakao_id = input(\"카카오 아이디 입력 : \")\n",
    "kakao_pw = getpass.getpass(\"카카오 pw입력: \")"
   ]
  },
  {
   "cell_type": "code",
   "execution_count": 28,
   "id": "7c5f2233-b3ba-4286-9406-94a406db404e",
   "metadata": {},
   "outputs": [
    {
     "name": "stdout",
     "output_type": "stream",
     "text": [
      "카카오 앱에서 확인을 눌러주세요!\n"
     ]
    }
   ],
   "source": [
    "kakao_id_input = wait.until(EC.presence_of_element_located((By.ID, 'loginId--1')))\n",
    "kakao_pw_input = wait.until(EC.presence_of_element_located((By.ID, 'password--2')))\n",
    "kakao_submit_btn = browser.find_element(By.CLASS_NAME, 'btn_g')\n",
    "\n",
    "kakao_id_input.clear()\n",
    "kakao_pw_input.clear()\n",
    "\n",
    "kakao_id_input.send_keys(kakao_id)\n",
    "kakao_pw_input.send_keys(kakao_pw)\n",
    "kakao_submit_btn.click()\n",
    "\n",
    "print(\"카카오 앱에서 확인을 눌러주세요!\")"
   ]
  },
  {
   "cell_type": "markdown",
   "id": "5142d190-9a58-4365-8309-d14fe3624d36",
   "metadata": {},
   "source": [
    "#### 보안 관련 code 받기!!"
   ]
  },
  {
   "cell_type": "code",
   "execution_count": 29,
   "id": "34dca1ee-1afd-4db3-b762-0f2a308eeb21",
   "metadata": {},
   "outputs": [],
   "source": [
    "kakao_agree_btn = wait.until(EC.presence_of_element_located((By.CLASS_NAME, 'btn_agree')))\n",
    "kakao_agree_btn.click()"
   ]
  },
  {
   "cell_type": "code",
   "execution_count": 30,
   "id": "c32050df-709f-4d5d-900b-72c6c07380ea",
   "metadata": {},
   "outputs": [
    {
     "name": "stdout",
     "output_type": "stream",
     "text": [
      "https://localhost:5000/?code=ImVT0TkmkqG50D6xlnsOmlcKWP2nh1Xgr9bMVey2qDD1fcfmmtgYAD28Y44KPXKYAAABjsdr8m_kNSpXBP-m7Q\n",
      "ImVT0TkmkqG50D6xlnsOmlcKWP2nh1Xgr9bMVey2qDD1fcfmmtgYAD28Y44KPXKYAAABjsdr8m_kNSpXBP-m7Q\n"
     ]
    }
   ],
   "source": [
    "import re\n",
    "\n",
    "code_url = browser.current_url\n",
    "print(code_url)\n",
    "\n",
    "code = re.search(r\"code=(.+)\", str(code_url))\n",
    "code = code.group(1)\n",
    "print(code)"
   ]
  },
  {
   "cell_type": "markdown",
   "id": "73ce47c4-d3fd-4f58-9a0d-124d68241b0a",
   "metadata": {},
   "source": [
    "## selenium 관련 코드"
   ]
  },
  {
   "cell_type": "markdown",
   "id": "bdf93c19-9b15-46f1-a225-7d73791eb917",
   "metadata": {},
   "source": [
    "#### SRT에 들어가요!"
   ]
  },
  {
   "cell_type": "code",
   "execution_count": 31,
   "id": "f8c76e66-45c7-401b-8f66-af2f19200820",
   "metadata": {},
   "outputs": [],
   "source": [
    "url = 'https://etk.srail.kr/cmc/01/selectLoginForm.do?pageId=TK0701000000' # SRT 로그인 페이지 URL\n",
    "\n",
    "browser.get(url)"
   ]
  },
  {
   "cell_type": "markdown",
   "id": "d73103c7-6396-4131-bead-017163fe4f67",
   "metadata": {},
   "source": [
    "#### 로그인을 합니다"
   ]
  },
  {
   "cell_type": "code",
   "execution_count": 32,
   "id": "1d135a34-636e-40ab-a328-ef05c067a3f6",
   "metadata": {},
   "outputs": [
    {
     "name": "stdout",
     "output_type": "stream",
     "text": [
      "ID(이메일)를 입력해 주세요 :  tjsgh531@naver.com\n",
      "PW를 입력해 주세요 :  ········\n"
     ]
    }
   ],
   "source": [
    "import getpass\n",
    "\n",
    "email = input(\"ID(이메일)를 입력해 주세요 : \")\n",
    "pw = getpass.getpass(\"PW를 입력해 주세요 : \")"
   ]
  },
  {
   "cell_type": "code",
   "execution_count": 33,
   "id": "7991d4fa-7b3b-4f77-8f71-7aca56b39e66",
   "metadata": {},
   "outputs": [],
   "source": [
    "email_login_btn = wait.until(EC.presence_of_element_located((By.XPATH, '//*[@id=\"srchDvCd2\"]')))\n",
    "email_login_btn.click()\n",
    "\n",
    "id_input = wait.until(EC.presence_of_element_located((By.XPATH, '//*[@id=\"srchDvNm02\"]')))\n",
    "pw_input = wait.until(EC.presence_of_element_located((By.XPATH, '//*[@id=\"hmpgPwdCphd02\"]')))\n",
    "submit_btn = wait.until(EC.presence_of_element_located((By.XPATH, '//*[@id=\"login-form\"]/fieldset/div[1]/div[1]/div[3]/div/div[2]/input')))\n",
    "\n",
    "id_input.clear()\n",
    "pw_input.clear()\n",
    "\n",
    "id_input.send_keys(email)\n",
    "pw_input.send_keys(pw)\n",
    "submit_btn.click()"
   ]
  },
  {
   "cell_type": "markdown",
   "id": "bd5b8764-7d50-4c70-aa13-2a955658c191",
   "metadata": {},
   "source": [
    "#### 예매 페이지로 갑니다"
   ]
  },
  {
   "cell_type": "code",
   "execution_count": 34,
   "id": "7aa2b45b-730d-4443-ad6d-395ef5ddf90f",
   "metadata": {},
   "outputs": [],
   "source": [
    "booking_url = 'https://etk.srail.kr/hpg/hra/01/selectScheduleList.do?pageId=TK0101010000'\n",
    "browser.get(booking_url)"
   ]
  },
  {
   "cell_type": "markdown",
   "id": "1b5f6605-3b9a-426f-8b8a-8a423d01ecb7",
   "metadata": {},
   "source": [
    "#### 원하는 출발지/도착지/출발시간을 입력받습니다."
   ]
  },
  {
   "cell_type": "code",
   "execution_count": 35,
   "id": "1ee9712f-89e6-4295-b203-3b16911d371a",
   "metadata": {},
   "outputs": [
    {
     "name": "stdout",
     "output_type": "stream",
     "text": [
      "어디서 출발하나요? :  부산\n",
      "어디로 갈까요? :  동탄\n"
     ]
    }
   ],
   "source": [
    "departure = input(\"어디서 출발하나요? : \")\n",
    "destination = input(\"어디로 갈까요? : \") "
   ]
  },
  {
   "cell_type": "code",
   "execution_count": 36,
   "id": "5e4b33ee-e5c7-46a3-8c55-99b137ee51c7",
   "metadata": {},
   "outputs": [],
   "source": [
    "departure_input = wait.until(EC.presence_of_element_located((By.XPATH, '//*[@id=\"dptRsStnCdNm\"]')))\n",
    "destination_input = wait.until(EC.presence_of_element_located((By.XPATH, '//*[@id=\"arvRsStnCdNm\"]')))\n",
    "\n",
    "departure_input.clear()\n",
    "destination_input.clear()\n",
    "\n",
    "departure_input.send_keys(departure)\n",
    "destination_input.send_keys(destination, Keys.ENTER)"
   ]
  },
  {
   "cell_type": "code",
   "execution_count": 37,
   "id": "ef336417-be1d-42b5-b55e-191a067bfb8c",
   "metadata": {},
   "outputs": [
    {
     "name": "stdout",
     "output_type": "stream",
     "text": [
      "00시 / 02시 / 04시 / 06시 / 08시 / 10시 / 12시 / 14시 / 16시 / 18시 / 20시 / 22시 / "
     ]
    },
    {
     "name": "stdout",
     "output_type": "stream",
     "text": [
      "가 있습니다. 몇 시로 예매 할까요? :  22\n"
     ]
    }
   ],
   "source": [
    "time_input = wait.until(EC.presence_of_element_located((By.XPATH, '//*[@id=\"dptTm\"]')))\n",
    "times = time_input.find_elements(By.TAG_NAME, 'option')\n",
    "search_btn = wait.until(EC.presence_of_element_located((By.XPATH, '//*[@id=\"search_top_tag\"]/input')))\n",
    "\n",
    "for time in times:\n",
    "    print(f\"{time.text}시\", end=\" / \")\n",
    "wanted_time = int(input(\"가 있습니다. 몇 시로 예매 할까요? : \")) \n",
    "\n",
    "for time in times:\n",
    "    if wanted_time == int(time.text):\n",
    "        time.click()\n",
    "        break\n",
    "\n",
    "search_btn.click()"
   ]
  },
  {
   "cell_type": "markdown",
   "id": "9e106279-f9b5-4946-ba67-943ea1b8c3b7",
   "metadata": {},
   "source": [
    "#### 매진이 아닐때 까지 광클을 합니다"
   ]
  },
  {
   "cell_type": "code",
   "execution_count": 38,
   "id": "f4ce3b59-704e-47b8-b511-c7d37011cefb",
   "metadata": {},
   "outputs": [
    {
     "name": "stdout",
     "output_type": "stream",
     "text": [
      "특실 자리를 예매할 수 있어요!!\n"
     ]
    }
   ],
   "source": [
    "import time\n",
    "\n",
    "while True:\n",
    "    special_seat = wait.until(EC.presence_of_element_located((By.XPATH, '//*[@id=\"result-form\"]/fieldset/div[6]/table/tbody/tr[1]/td[6]')))\n",
    "    economy_seat = wait.until(EC.presence_of_element_located((By.XPATH, '//*[@id=\"result-form\"]/fieldset/div[6]/table/tbody/tr[1]/td[7]')))\n",
    "    \n",
    "    is_special_seat = False\n",
    "    is_economy_seat = False\n",
    "\n",
    "    if '예약 하기' in special_seat.text:\n",
    "        is_special_seat = True\n",
    "    if '예약 하기' in economy_seat.text:\n",
    "        is_economy_seat = True\n",
    "\n",
    "    if is_special_seat:\n",
    "        print(\"특실 자리를 예매할 수 있어요!!\")\n",
    "        special_seat_btn = special_seat.find_element(By.TAG_NAME, 'a')\n",
    "        special_seat_btn.click()\n",
    "        break\n",
    "    if is_economy_seat:\n",
    "        print(\"일반실 자리를 예매할 수 있어요!!\")\n",
    "        economy_seat_btn = economy_seat.find_element(By.TAG_NAME, 'a')\n",
    "        economy_seat_btn.click()\n",
    "        break\n",
    "    print(\"예약 할 수 있는 표가 없어요.. 광클 합니다\")\n",
    "    browser.refresh()\n",
    "    time.sleep(3)\n",
    "    search_btn = wait.until(EC.presence_of_element_located((By.CLASS_NAME, 'btn_large ')))\n",
    "    search_btn.click()"
   ]
  },
  {
   "cell_type": "markdown",
   "id": "9368c109-2842-4db3-9947-7bf9d059cad3",
   "metadata": {},
   "source": [
    "#### 자리가 있으면 카톡으로 메세지를 보내자!"
   ]
  },
  {
   "cell_type": "code",
   "execution_count": 39,
   "id": "1281833b-8a91-44a1-8196-4656d0140655",
   "metadata": {},
   "outputs": [],
   "source": [
    "import requests\n",
    "\n",
    "url = 'https://kauth.kakao.com/oauth/token'\n",
    "redirect_uri = 'https://localhost:5000'\n",
    "\n",
    "data = {\n",
    "    'grant_type' : 'authorization_code',\n",
    "    'client_id' : api_key,\n",
    "    'redirect_uri' : redirect_uri,\n",
    "    'code' : code,\n",
    "}\n",
    "\n",
    "response = requests.post(url, data=data)\n",
    "tokens = response.json()"
   ]
  },
  {
   "cell_type": "code",
   "execution_count": 41,
   "id": "e04a854b-5a95-442c-891c-5fa65cf0fc48",
   "metadata": {},
   "outputs": [
    {
     "name": "stdout",
     "output_type": "stream",
     "text": [
      "200\n",
      "메시지를 성공적으로 보냈습니다.\n"
     ]
    }
   ],
   "source": [
    "import json\n",
    "\n",
    "booking_url = browser.current_url\n",
    "url=\"https://kapi.kakao.com/v2/api/talk/memo/default/send\"\n",
    "\n",
    "# kapi.kakao.com/v2/api/talk/memo/default/send \n",
    "\n",
    "headers={\n",
    "    \"Authorization\" : \"Bearer \" + tokens[\"access_token\"]\n",
    "}\n",
    "\n",
    "data={\n",
    "    \"template_object\": json.dumps({\n",
    "        \"object_type\":\"text\",\n",
    "        \"text\":f\"예약에 성공했습니다! 10분 내로 결제하러 가세요!! {booking_url}\",\n",
    "        \"link\":{\n",
    "            \"web_url\":\"www.naver.com\"\n",
    "        }\n",
    "    })\n",
    "}\n",
    "\n",
    "response = requests.post(url, headers=headers, data=data)\n",
    "response.status_code\n",
    "print(response.status_code)\n",
    "if response.json().get('result_code') == 0:\n",
    "\tprint('메시지를 성공적으로 보냈습니다.')\n",
    "else:\n",
    "\tprint('메시지를 성공적으로 보내지 못했습니다. 오류메시지 : ' + str(response.json()))"
   ]
  },
  {
   "cell_type": "code",
   "execution_count": null,
   "id": "bccee09d-581b-4ef0-9c0a-776957772c69",
   "metadata": {},
   "outputs": [],
   "source": []
  }
 ],
 "metadata": {
  "kernelspec": {
   "display_name": "Python 3 (ipykernel)",
   "language": "python",
   "name": "python3"
  },
  "language_info": {
   "codemirror_mode": {
    "name": "ipython",
    "version": 3
   },
   "file_extension": ".py",
   "mimetype": "text/x-python",
   "name": "python",
   "nbconvert_exporter": "python",
   "pygments_lexer": "ipython3",
   "version": "3.11.7"
  }
 },
 "nbformat": 4,
 "nbformat_minor": 5
}
